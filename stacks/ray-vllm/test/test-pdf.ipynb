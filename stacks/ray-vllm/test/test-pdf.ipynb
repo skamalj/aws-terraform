{
 "cells": [
  {
   "cell_type": "code",
   "execution_count": 11,
   "id": "74591e97",
   "metadata": {},
   "outputs": [
    {
     "name": "stdout",
     "output_type": "stream",
     "text": [
      "{\"property_account_number\": \"O/A/04/01222010\", \"address\": \"4TH FLOOR FLAT NO.401, S NO 3/1/2+3+4, WING \\\" A \\\" K- SQUARE BEHIND STATE BANK OF INDIA, BALEWADI, PUNE 411045\", \"owner\": \"KAMALJEET SINGH & AMARPREET SAINI\", \"bank_ref_number\": \"BIC5KN0L2EHX6\", \"payment_mode\": \"Bharat QR Code\", \"amount\": \"13670\", \"transaction_date\": \"17/05/2025\"}\n"
     ]
    }
   ],
   "source": [
    "\n",
    "# ALTERNATIVE: Simplified client without olmocr toolkit (less accurate)\n",
    "# This approach doesn't use document anchoring but still works for basic OCR\n",
    "\n",
    "import base64\n",
    "from openai import OpenAI\n",
    "from PIL import Image\n",
    "import pdf2image\n",
    "import io\n",
    "import json\n",
    "\n",
    "def simple_pdf_to_olmocr(pdf_path, page_num=1):\n",
    "    \"\"\"\n",
    "    Simple PDF to OLMoCR without document anchoring\n",
    "    Note: This is less accurate than the full approach above\n",
    "    \"\"\"\n",
    "\n",
    "    # Convert PDF page to image\n",
    "    pages = pdf2image.convert_from_path(pdf_path, first_page=page_num, last_page=page_num)\n",
    "    if not pages:\n",
    "        raise ValueError(\"Could not convert PDF page to image\")\n",
    "\n",
    "    # Resize image to 1024px longest dimension\n",
    "    image = pages[0]\n",
    "    max_dim = max(image.size)\n",
    "    if max_dim > 1024:\n",
    "        scale = 1024 / max_dim\n",
    "        new_size = (int(image.size[0] * scale), int(image.size[1] * scale))\n",
    "        image = image.resize(new_size, Image.Resampling.LANCZOS)\n",
    "\n",
    "    # Convert to base64\n",
    "    buffer = io.BytesIO()\n",
    "    image.save(buffer, format='PNG')\n",
    "    image_base64 = base64.b64encode(buffer.getvalue()).decode('utf-8')\n",
    "\n",
    "    # Simple prompt (not as good as document anchoring)\n",
    "    prompt = \"Extract property account number, address, owner from this document and output the result as JSON\"\n",
    "\n",
    "    # Send to vLLM\n",
    "    client = OpenAI(api_key=\"EMPTY\", base_url=\"http://localhost:8000/v1\")\n",
    "\n",
    "    response = client.chat.completions.create(\n",
    "        model=\"olmOCR-7B-0225-preview\",\n",
    "        messages=[{\n",
    "            \"role\": \"user\",\n",
    "            \"content\": [\n",
    "                {\"type\": \"text\", \"text\": prompt},\n",
    "                {\"type\": \"image_url\", \"image_url\": {\"url\": f\"data:image/png;base64,{image_base64}\"}}\n",
    "            ]\n",
    "        }],\n",
    "        max_tokens=4096,\n",
    "        temperature=0.1\n",
    "    )\n",
    "\n",
    "    return response.choices[0].message.content\n",
    "\n",
    "# Usage\n",
    "result = simple_pdf_to_olmocr(\"somepdf.pdf\", 1)\n",
    "print(result)\n"
   ]
  }
 ],
 "metadata": {
  "kernelspec": {
   "display_name": "langgraph",
   "language": "python",
   "name": "python3"
  },
  "language_info": {
   "codemirror_mode": {
    "name": "ipython",
    "version": 3
   },
   "file_extension": ".py",
   "mimetype": "text/x-python",
   "name": "python",
   "nbconvert_exporter": "python",
   "pygments_lexer": "ipython3",
   "version": "3.10.16"
  }
 },
 "nbformat": 4,
 "nbformat_minor": 5
}
